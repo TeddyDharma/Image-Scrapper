{
 "cells": [
  {
   "cell_type": "code",
   "execution_count": 43,
   "metadata": {},
   "outputs": [],
   "source": [
    "from bs4 import BeautifulSoup\n",
    "import numpy as np\n",
    "import pandas as pd\n",
    "import requests\n",
    "import urllib.request\n",
    "import re\n",
    "import cv2\n",
    "import matplotlib.pyplot as plt\n",
    "import os "
   ]
  },
  {
   "cell_type": "code",
   "execution_count": 10,
   "metadata": {},
   "outputs": [],
   "source": [
    "#  get list of recipe\n",
    "# https://cosylab.iiitd.edu.in/recipedb/search_recipeInfo/3435\n",
    "# select range\n",
    "def get_list_recipe(start, end):\n",
    "    data = []\n",
    "    links = []\n",
    "    for i in range(start, end):\n",
    "        url = requests.get(\"https://cosylab.iiitd.edu.in/recipedb/search_recipeInfo/\" + str(i))\n",
    "        soup = BeautifulSoup(url.content, 'lxml')\n",
    "        # select the title\n",
    "        for title in soup.find_all(\"h3\"):\n",
    "            data.append(title.get_text())\n",
    "            links.append(f'https://cosylab.iiitd.edu.in/recipedb/search_recipeInfo/{i}')\n",
    "    return {\"nama_makanan\" : data, \"links\" : links}\n",
    "# functon to concat \n",
    "def concat_data(data1:dict, data2:dict):\n",
    "    data_concat = pd.concat([pd.DataFrame(data1), pd.DataFrame(data2)])\n",
    "    return data_concat \n",
    "# function to convert\n",
    "def convert_excel(data1:dict, data2:dict): \n",
    "    data = concat_data(data1, data2)\n",
    "    data = pd.DataFrame(data).to_excel(\"list_recipe.xlsx\", index = False)\n",
    "#  function to read data\n",
    "def read_data():\n",
    "    data = pd.read_excel(\"list_recipe.xlsx\")\n",
    "    return data"
   ]
  },
  {
   "cell_type": "code",
   "execution_count": 11,
   "metadata": {},
   "outputs": [],
   "source": [
    "# get list of recipe\n",
    "\n",
    "# all data index\n",
    "# data1 = get_list_recipe(start = 3436, end = 3467)\n",
    "# data2 = get_list_recipe(start = 59670, end = 59996)\n",
    "\n",
    "\n",
    "data1 = get_list_recipe(start = 3436, end = 3440)\n",
    "data2 = get_list_recipe(start = 59670, end = 59680)\n",
    "convert_excel(data1, data2)\n"
   ]
  },
  {
   "cell_type": "code",
   "execution_count": 15,
   "metadata": {},
   "outputs": [
    {
     "data": {
      "text/html": [
       "<div>\n",
       "<style scoped>\n",
       "    .dataframe tbody tr th:only-of-type {\n",
       "        vertical-align: middle;\n",
       "    }\n",
       "\n",
       "    .dataframe tbody tr th {\n",
       "        vertical-align: top;\n",
       "    }\n",
       "\n",
       "    .dataframe thead th {\n",
       "        text-align: right;\n",
       "    }\n",
       "</style>\n",
       "<table border=\"1\" class=\"dataframe\">\n",
       "  <thead>\n",
       "    <tr style=\"text-align: right;\">\n",
       "      <th></th>\n",
       "      <th>nama_makanan</th>\n",
       "      <th>links</th>\n",
       "    </tr>\n",
       "  </thead>\n",
       "  <tbody>\n",
       "    <tr>\n",
       "      <th>0</th>\n",
       "      <td>Spicy Eggplant (Terong Balado)</td>\n",
       "      <td>https://cosylab.iiitd.edu.in/recipedb/search_r...</td>\n",
       "    </tr>\n",
       "    <tr>\n",
       "      <th>1</th>\n",
       "      <td>How to Make Beef Satay</td>\n",
       "      <td>https://cosylab.iiitd.edu.in/recipedb/search_r...</td>\n",
       "    </tr>\n",
       "    <tr>\n",
       "      <th>2</th>\n",
       "      <td>Indonesian Pork Satay</td>\n",
       "      <td>https://cosylab.iiitd.edu.in/recipedb/search_r...</td>\n",
       "    </tr>\n",
       "    <tr>\n",
       "      <th>3</th>\n",
       "      <td>Spicy Sambal Shrimp</td>\n",
       "      <td>https://cosylab.iiitd.edu.in/recipedb/search_r...</td>\n",
       "    </tr>\n",
       "    <tr>\n",
       "      <th>4</th>\n",
       "      <td>Nutmeg Tea Cookies (Kue Kering)</td>\n",
       "      <td>https://cosylab.iiitd.edu.in/recipedb/search_r...</td>\n",
       "    </tr>\n",
       "    <tr>\n",
       "      <th>5</th>\n",
       "      <td>INDONESIAN FOOD RECIPES : SOTO KUDUS</td>\n",
       "      <td>https://cosylab.iiitd.edu.in/recipedb/search_r...</td>\n",
       "    </tr>\n",
       "    <tr>\n",
       "      <th>6</th>\n",
       "      <td>Kaya (Coconut Egg Custard)</td>\n",
       "      <td>https://cosylab.iiitd.edu.in/recipedb/search_r...</td>\n",
       "    </tr>\n",
       "    <tr>\n",
       "      <th>7</th>\n",
       "      <td>Nasi Kuning</td>\n",
       "      <td>https://cosylab.iiitd.edu.in/recipedb/search_r...</td>\n",
       "    </tr>\n",
       "    <tr>\n",
       "      <th>8</th>\n",
       "      <td>Beef Rendang</td>\n",
       "      <td>https://cosylab.iiitd.edu.in/recipedb/search_r...</td>\n",
       "    </tr>\n",
       "    <tr>\n",
       "      <th>9</th>\n",
       "      <td>Telo ( Surinam-Indonesian)</td>\n",
       "      <td>https://cosylab.iiitd.edu.in/recipedb/search_r...</td>\n",
       "    </tr>\n",
       "  </tbody>\n",
       "</table>\n",
       "</div>"
      ],
      "text/plain": [
       "                           nama_makanan  \\\n",
       "0        Spicy Eggplant (Terong Balado)   \n",
       "1                How to Make Beef Satay   \n",
       "2                 Indonesian Pork Satay   \n",
       "3                   Spicy Sambal Shrimp   \n",
       "4       Nutmeg Tea Cookies (Kue Kering)   \n",
       "5  INDONESIAN FOOD RECIPES : SOTO KUDUS   \n",
       "6            Kaya (Coconut Egg Custard)   \n",
       "7                           Nasi Kuning   \n",
       "8                          Beef Rendang   \n",
       "9            Telo ( Surinam-Indonesian)   \n",
       "\n",
       "                                               links  \n",
       "0  https://cosylab.iiitd.edu.in/recipedb/search_r...  \n",
       "1  https://cosylab.iiitd.edu.in/recipedb/search_r...  \n",
       "2  https://cosylab.iiitd.edu.in/recipedb/search_r...  \n",
       "3  https://cosylab.iiitd.edu.in/recipedb/search_r...  \n",
       "4  https://cosylab.iiitd.edu.in/recipedb/search_r...  \n",
       "5  https://cosylab.iiitd.edu.in/recipedb/search_r...  \n",
       "6  https://cosylab.iiitd.edu.in/recipedb/search_r...  \n",
       "7  https://cosylab.iiitd.edu.in/recipedb/search_r...  \n",
       "8  https://cosylab.iiitd.edu.in/recipedb/search_r...  \n",
       "9  https://cosylab.iiitd.edu.in/recipedb/search_r...  "
      ]
     },
     "execution_count": 15,
     "metadata": {},
     "output_type": "execute_result"
    }
   ],
   "source": [
    "food_list = read_data()\n",
    "food_list.head(10)"
   ]
  },
  {
   "cell_type": "code",
   "execution_count": 16,
   "metadata": {},
   "outputs": [
    {
     "data": {
      "text/plain": [
       "'nasi+goreng'"
      ]
     },
     "execution_count": 16,
     "metadata": {},
     "output_type": "execute_result"
    }
   ],
   "source": [
    "str1 =  \"nasi goreng\"\n",
    "str1 = str1.replace(\" \",  \"+\")\n",
    "str1"
   ]
  },
  {
   "cell_type": "code",
   "execution_count": 40,
   "metadata": {},
   "outputs": [
    {
     "data": {
      "text/plain": [
       "(14, 2)"
      ]
     },
     "execution_count": 40,
     "metadata": {},
     "output_type": "execute_result"
    }
   ],
   "source": [
    "food_list.shape"
   ]
  },
  {
   "cell_type": "code",
   "execution_count": 47,
   "metadata": {},
   "outputs": [],
   "source": [
    "# get image \n",
    "def download_image(food_data: pd.DataFrame):\n",
    "    #  looping for nama makanan \n",
    "    for food in food_data['nama_makanan']: \n",
    "        url = requests.get(f'https://www.bing.com/images/search?q={food}&form=HDRSC3')\n",
    "        soup = BeautifulSoup(url.content, 'lxml')\n",
    "\n",
    "        get_image = soup.find_all(name = \"a\", attrs={\"class\" : \"itm\"})\n",
    "        src2_value = []\n",
    "        # print(url.status_code)\n",
    "        if get_image: \n",
    "            # print(get_image)\n",
    "            for i in get_image: \n",
    "                img_tag = i.find('img')\n",
    "                if img_tag:\n",
    "                # get the src value \n",
    "                    src2_value.append(img_tag.get('src2'))\n",
    "            # start downloading\n",
    "            for i in range(len(src2_value)):\n",
    "                # check  path\n",
    "                if os.path.exists(f'./{food}'):\n",
    "                    full_path = f'./{food}/{food}{i + 1}.jpg'\n",
    "                    urllib.request.urlretrieve(src2_value[i], full_path)\n",
    "                else:\n",
    "                    # if path is not exist\n",
    "                    os.mkdir(f\"./{food}\")\n",
    "                    full_path = f'./{food}/{food}{i + 1}.jpg'\n",
    "                    urllib.request.urlretrieve(src2_value[i], full_path)\n",
    "\n",
    "    #  not detecting image\n",
    "    else: \n",
    "        print(\"there is no img detected\")\n",
    "    print(\"succesfully get \" + str(len(src2_value)) + \" images\")\n",
    "\n"
   ]
  },
  {
   "cell_type": "code",
   "execution_count": 48,
   "metadata": {},
   "outputs": [
    {
     "ename": "NotADirectoryError",
     "evalue": "[WinError 267] The directory name is invalid: './INDONESIAN FOOD RECIPES : SOTO KUDUS'",
     "output_type": "error",
     "traceback": [
      "\u001b[1;31m---------------------------------------------------------------------------\u001b[0m",
      "\u001b[1;31mNotADirectoryError\u001b[0m                        Traceback (most recent call last)",
      "Cell \u001b[1;32mIn[48], line 2\u001b[0m\n\u001b[0;32m      1\u001b[0m \u001b[38;5;66;03m# url_image =\u001b[39;00m\n\u001b[1;32m----> 2\u001b[0m \u001b[43mdownload_image\u001b[49m\u001b[43m(\u001b[49m\u001b[43mfood_data\u001b[49m\u001b[38;5;241;43m=\u001b[39;49m\u001b[43mfood_list\u001b[49m\u001b[43m)\u001b[49m\n",
      "Cell \u001b[1;32mIn[47], line 30\u001b[0m, in \u001b[0;36mdownload_image\u001b[1;34m(food_data)\u001b[0m\n\u001b[0;32m     28\u001b[0m     urllib\u001b[38;5;241m.\u001b[39mrequest\u001b[38;5;241m.\u001b[39murlretrieve(src2_value[i], full_path)\n\u001b[0;32m     29\u001b[0m \u001b[38;5;28;01melse\u001b[39;00m:\n\u001b[1;32m---> 30\u001b[0m     os\u001b[38;5;241m.\u001b[39mmkdir(\u001b[38;5;124mf\u001b[39m\u001b[38;5;124m\"\u001b[39m\u001b[38;5;124m./\u001b[39m\u001b[38;5;132;01m{\u001b[39;00mfood\u001b[38;5;132;01m}\u001b[39;00m\u001b[38;5;124m\"\u001b[39m)\n\u001b[0;32m     31\u001b[0m     full_path \u001b[38;5;241m=\u001b[39m \u001b[38;5;124mf\u001b[39m\u001b[38;5;124m'\u001b[39m\u001b[38;5;124m./\u001b[39m\u001b[38;5;132;01m{\u001b[39;00mfood\u001b[38;5;132;01m}\u001b[39;00m\u001b[38;5;124m/\u001b[39m\u001b[38;5;132;01m{\u001b[39;00mfood\u001b[38;5;132;01m}\u001b[39;00m\u001b[38;5;132;01m{\u001b[39;00mi\u001b[38;5;250m \u001b[39m\u001b[38;5;241m+\u001b[39m\u001b[38;5;250m \u001b[39m\u001b[38;5;241m1\u001b[39m\u001b[38;5;132;01m}\u001b[39;00m\u001b[38;5;124m.jpg\u001b[39m\u001b[38;5;124m'\u001b[39m\n\u001b[0;32m     32\u001b[0m     urllib\u001b[38;5;241m.\u001b[39mrequest\u001b[38;5;241m.\u001b[39murlretrieve(src2_value[i], full_path)\n",
      "\u001b[1;31mNotADirectoryError\u001b[0m: [WinError 267] The directory name is invalid: './INDONESIAN FOOD RECIPES : SOTO KUDUS'"
     ]
    }
   ],
   "source": [
    "# url_image =\n",
    "download_image(food_data=food_list)"
   ]
  }
 ],
 "metadata": {
  "kernelspec": {
   "display_name": "Python 3",
   "language": "python",
   "name": "python3"
  },
  "language_info": {
   "codemirror_mode": {
    "name": "ipython",
    "version": 3
   },
   "file_extension": ".py",
   "mimetype": "text/x-python",
   "name": "python",
   "nbconvert_exporter": "python",
   "pygments_lexer": "ipython3",
   "version": "3.11.2"
  }
 },
 "nbformat": 4,
 "nbformat_minor": 2
}
